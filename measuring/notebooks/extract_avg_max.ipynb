{
 "cells": [
  {
   "cell_type": "markdown",
   "id": "e9a06472",
   "metadata": {},
   "source": [
    "# Extract Avg and Max for TimeSeries"
   ]
  },
  {
   "cell_type": "code",
   "execution_count": 10,
   "id": "1f29f35b",
   "metadata": {},
   "outputs": [],
   "source": [
    "import numpy\n",
    "import os\n",
    "import pandas as pd"
   ]
  },
  {
   "cell_type": "markdown",
   "id": "4ba216ad",
   "metadata": {},
   "source": [
    "## CPU"
   ]
  },
  {
   "cell_type": "code",
   "execution_count": 13,
   "id": "391f579f",
   "metadata": {},
   "outputs": [],
   "source": [
    "target_sim_dir = \"EthereumSimulation_i\"\n",
    "target_sim = \"EthereumSimulation\""
   ]
  },
  {
   "cell_type": "code",
   "execution_count": 14,
   "id": "6472f21d",
   "metadata": {},
   "outputs": [],
   "source": [
    "results_dir = \"../scripts/results/\"\n",
    "results_csv = os.path.join(results_dir, target_sim_dir, target_sim + \"_results.csv\")"
   ]
  },
  {
   "cell_type": "code",
   "execution_count": 15,
   "id": "e1e3dbbd",
   "metadata": {},
   "outputs": [],
   "source": [
    "vmSphereExport = \"../vmSphereExports/day2_cpu.csv\""
   ]
  },
  {
   "cell_type": "code",
   "execution_count": null,
   "id": "3cd97d47",
   "metadata": {},
   "outputs": [
    {
     "data": {
      "text/html": [
       "<div>\n",
       "<style scoped>\n",
       "    .dataframe tbody tr th:only-of-type {\n",
       "        vertical-align: middle;\n",
       "    }\n",
       "\n",
       "    .dataframe tbody tr th {\n",
       "        vertical-align: top;\n",
       "    }\n",
       "\n",
       "    .dataframe thead th {\n",
       "        text-align: right;\n",
       "    }\n",
       "</style>\n",
       "<table border=\"1\" class=\"dataframe\">\n",
       "  <thead>\n",
       "    <tr style=\"text-align: right;\">\n",
       "      <th></th>\n",
       "      <th>Run</th>\n",
       "      <th>Num Peers</th>\n",
       "      <th>Chain Length</th>\n",
       "      <th>Runtime</th>\n",
       "      <th>Interval Start</th>\n",
       "      <th>Interval End</th>\n",
       "      <th>Peers In Sync</th>\n",
       "      <th>Blockchains Match</th>\n",
       "    </tr>\n",
       "  </thead>\n",
       "  <tbody>\n",
       "    <tr>\n",
       "      <th>0</th>\n",
       "      <td>1</td>\n",
       "      <td>10</td>\n",
       "      <td>5</td>\n",
       "      <td>25.34</td>\n",
       "      <td>2025-04-30 16:15:05</td>\n",
       "      <td>2025-04-30 16:15:30</td>\n",
       "      <td>True</td>\n",
       "      <td>True</td>\n",
       "    </tr>\n",
       "    <tr>\n",
       "      <th>1</th>\n",
       "      <td>2</td>\n",
       "      <td>10</td>\n",
       "      <td>5</td>\n",
       "      <td>25.34</td>\n",
       "      <td>2025-04-30 16:15:30</td>\n",
       "      <td>2025-04-30 16:15:55</td>\n",
       "      <td>True</td>\n",
       "      <td>True</td>\n",
       "    </tr>\n",
       "    <tr>\n",
       "      <th>2</th>\n",
       "      <td>3</td>\n",
       "      <td>10</td>\n",
       "      <td>5</td>\n",
       "      <td>25.34</td>\n",
       "      <td>2025-04-30 16:15:55</td>\n",
       "      <td>2025-04-30 16:16:21</td>\n",
       "      <td>True</td>\n",
       "      <td>True</td>\n",
       "    </tr>\n",
       "    <tr>\n",
       "      <th>3</th>\n",
       "      <td>1</td>\n",
       "      <td>10</td>\n",
       "      <td>10</td>\n",
       "      <td>50.34</td>\n",
       "      <td>2025-04-30 16:16:21</td>\n",
       "      <td>2025-04-30 16:17:11</td>\n",
       "      <td>True</td>\n",
       "      <td>True</td>\n",
       "    </tr>\n",
       "    <tr>\n",
       "      <th>4</th>\n",
       "      <td>2</td>\n",
       "      <td>10</td>\n",
       "      <td>10</td>\n",
       "      <td>50.37</td>\n",
       "      <td>2025-04-30 16:17:11</td>\n",
       "      <td>2025-04-30 16:18:02</td>\n",
       "      <td>True</td>\n",
       "      <td>True</td>\n",
       "    </tr>\n",
       "  </tbody>\n",
       "</table>\n",
       "</div>"
      ],
      "text/plain": [
       "   Run  Num Peers  Chain Length  Runtime       Interval Start  \\\n",
       "0    1         10             5    25.34  2025-04-30 16:15:05   \n",
       "1    2         10             5    25.34  2025-04-30 16:15:30   \n",
       "2    3         10             5    25.34  2025-04-30 16:15:55   \n",
       "3    1         10            10    50.34  2025-04-30 16:16:21   \n",
       "4    2         10            10    50.37  2025-04-30 16:17:11   \n",
       "\n",
       "          Interval End  Peers In Sync  Blockchains Match  \n",
       "0  2025-04-30 16:15:30           True               True  \n",
       "1  2025-04-30 16:15:55           True               True  \n",
       "2  2025-04-30 16:16:21           True               True  \n",
       "3  2025-04-30 16:17:11           True               True  \n",
       "4  2025-04-30 16:18:02           True               True  "
      ]
     },
     "execution_count": 16,
     "metadata": {},
     "output_type": "execute_result"
    }
   ],
   "source": [
    "results_df = pd.read_csv(results_csv)\n",
    "results_df.head()"
   ]
  },
  {
   "cell_type": "code",
   "execution_count": null,
   "id": "ba11138a",
   "metadata": {},
   "outputs": [],
   "source": []
  }
 ],
 "metadata": {
  "kernelspec": {
   "display_name": ".venv",
   "language": "python",
   "name": "python3"
  },
  "language_info": {
   "codemirror_mode": {
    "name": "ipython",
    "version": 3
   },
   "file_extension": ".py",
   "mimetype": "text/x-python",
   "name": "python",
   "nbconvert_exporter": "python",
   "pygments_lexer": "ipython3",
   "version": "3.10.6"
  }
 },
 "nbformat": 4,
 "nbformat_minor": 5
}
